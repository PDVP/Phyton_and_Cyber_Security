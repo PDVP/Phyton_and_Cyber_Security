{
  "nbformat": 4,
  "nbformat_minor": 0,
  "metadata": {
    "colab": {
      "name": "P D V PAVAN.ipynb",
      "provenance": []
    },
    "kernelspec": {
      "name": "python3",
      "display_name": "Python 3"
    },
    "language_info": {
      "name": "python"
    }
  },
  "cells": [
    {
      "cell_type": "code",
      "metadata": {
        "colab": {
          "base_uri": "https://localhost:8080/"
        },
        "id": "LI2wPynD5_wW",
        "outputId": "3b32273b-ca95-4cc5-8d22-ba5b499778a9"
      },
      "source": [
        "# Using weather api in Python to get weather-report of any place !!!!!!!!!!!\n",
        "\n",
        "import requests\n",
        "from datetime import datetime\n",
        "\n",
        "user_key = 'db6cac5b97f42fddbc77bf799069c4fc'\n",
        "\n",
        "#Please enter only the City name!!\n",
        "location = input(\"Enter the City name: \")\n",
        "\n",
        "# API call type - call by city name and api_key\n",
        "\n",
        "complete_api_link = \"https://api.openweathermap.org/data/2.5/weather?q=\"+location+\"&appid=\"+user_key\n",
        "api_link = requests.get(complete_api_link)\n",
        "api_data = api_link.json()\n",
        "\n",
        "if api_data['cod'] =='404':\n",
        "  print(\"Invalid City : {},Please check the City name:\",format(location))\n",
        "else: \n",
        "  temp_city = ((api_data['main']['temp']) - 273.15)\n",
        "  weather_desc = api_data['weather'][0]['description']\n",
        "  hmdt = api_data['main']['humidity']\n",
        "  wind_spd = api_data['wind']['speed']\n",
        "  date_time = datetime.now().strftime(\"%d %b %Y | %I:%M:%S %p\")\n",
        "  coord1 = api_data['coord']['lon']\n",
        "  coord2 = api_data['coord']['lat']\n",
        "\n",
        "\n",
        "  print (\"-------------------------------------------------------------\")\n",
        "  print (\"Weather Stats for - {}  || {}\".format(location.upper(), date_time))\n",
        "  print (\"Current coordinates   : lat -\",coord1 ,', lon -',coord2 )\n",
        "  print (\"-------------------------------------------------------------\")\n",
        "\n",
        "  print (\"Current temperature is: {:.2f} deg C\".format(temp_city))\n",
        "  print (\"Current weather desc  :\",weather_desc)\n",
        "  print (\"Current Humidity      :\",hmdt, '%')\n",
        "  print (\"Current wind speed    :\",wind_spd ,'kmph')\n",
        "\n",
        "  print (\"=============================================================\")\n",
        "\n"
      ],
      "execution_count": 7,
      "outputs": [
        {
          "output_type": "stream",
          "text": [
            "Enter the City name: chennai\n",
            "-------------------------------------------------------------\n",
            "Weather Stats for - CHENNAI  || 27 Jul 2021 | 07:55:54 AM\n",
            "Current coordinates   : lat - 80.2785 , lon - 13.0878\n",
            "-------------------------------------------------------------\n",
            "Current temperature is: 33.99 deg C\n",
            "Current weather desc  : few clouds\n",
            "Current Humidity      : 52 %\n",
            "Current wind speed    : 5.14 kmph\n",
            "=============================================================\n"
          ],
          "name": "stdout"
        }
      ]
    }
  ]
}